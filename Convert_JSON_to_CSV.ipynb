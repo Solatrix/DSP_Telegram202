{
  "nbformat": 4,
  "nbformat_minor": 0,
  "metadata": {
    "colab": {
      "provenance": [],
      "authorship_tag": "ABX9TyNU2sPCsrVifD/Ju/1OvAPV",
      "include_colab_link": true
    },
    "kernelspec": {
      "name": "python3",
      "display_name": "Python 3"
    },
    "language_info": {
      "name": "python"
    }
  },
  "cells": [
    {
      "cell_type": "markdown",
      "metadata": {
        "id": "view-in-github",
        "colab_type": "text"
      },
      "source": [
        "<a href=\"https://colab.research.google.com/github/Solatrix/DSP_Telegram202/blob/main/Convert_JSON_to_CSV.ipynb\" target=\"_parent\"><img src=\"https://colab.research.google.com/assets/colab-badge.svg\" alt=\"Open In Colab\"/></a>"
      ]
    },
    {
      "cell_type": "markdown",
      "source": [
        "Load the JSON and Pandas Python libraries"
      ],
      "metadata": {
        "id": "ehZCvL3HklM4"
      }
    },
    {
      "cell_type": "code",
      "execution_count": 55,
      "metadata": {
        "id": "Hndj4f0qfTIS"
      },
      "outputs": [],
      "source": [
        "import json, pandas as pd"
      ]
    },
    {
      "cell_type": "markdown",
      "source": [
        "Load the JSON file and convert the \"messages\" key to a dataframe"
      ],
      "metadata": {
        "id": "NEYyDCbKkrhJ"
      }
    },
    {
      "cell_type": "code",
      "source": [
        "with open('/content/result.json') as f:\n",
        "    data = json.load(f)\n",
        "    data_frame  = pd.DataFrame(data[\"messages\"])"
      ],
      "metadata": {
        "id": "goQRjalKfYom"
      },
      "execution_count": 56,
      "outputs": []
    },
    {
      "cell_type": "markdown",
      "source": [
        "Extract text contained in `text_entities`"
      ],
      "metadata": {
        "id": "Ukc3HB-2ODfw"
      }
    },
    {
      "cell_type": "code",
      "source": [
        "data_frame[\"fullText\"] = data_frame[\"text_entities\"].apply(lambda entities: ' '.join(entity[\"text\"] for entity in entities))"
      ],
      "metadata": {
        "id": "DZrkIYf5I_g8"
      },
      "execution_count": 72,
      "outputs": []
    },
    {
      "cell_type": "markdown",
      "source": [
        "Export the dataframe to a CSV file"
      ],
      "metadata": {
        "id": "9GRbVbaAk0YR"
      }
    },
    {
      "cell_type": "code",
      "source": [
        "data_frame.to_csv(\"./messages.csv\", encoding=\"utf-8-sig\")"
      ],
      "metadata": {
        "id": "Qkxhwcx-f7xO"
      },
      "execution_count": null,
      "outputs": []
    }
  ]
}