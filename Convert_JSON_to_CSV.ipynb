{
  "nbformat": 4,
  "nbformat_minor": 0,
  "metadata": {
    "colab": {
      "provenance": [],
      "authorship_tag": "ABX9TyP9UiiFaAMkPw1WdSmAexTM",
      "include_colab_link": true
    },
    "kernelspec": {
      "name": "python3",
      "display_name": "Python 3"
    },
    "language_info": {
      "name": "python"
    }
  },
  "cells": [
    {
      "cell_type": "markdown",
      "metadata": {
        "id": "view-in-github",
        "colab_type": "text"
      },
      "source": [
        "<a href=\"https://colab.research.google.com/github/Solatrix/DSP_Telegram202/blob/main/Copy_of_Convert_JSON_to_CSV.ipynb\" target=\"_parent\"><img src=\"https://colab.research.google.com/assets/colab-badge.svg\" alt=\"Open In Colab\"/></a>"
      ]
    },
    {
      "cell_type": "markdown",
      "source": [
        "Load the JSON and Pandas Python libraries"
      ],
      "metadata": {
        "id": "ehZCvL3HklM4"
      }
    },
    {
      "cell_type": "code",
      "execution_count": null,
      "metadata": {
        "id": "Hndj4f0qfTIS"
      },
      "outputs": [],
      "source": [
        "import json, pandas as pd"
      ]
    },
    {
      "cell_type": "markdown",
      "source": [
        "Load the JSON file and convert the \"messages\" key to a dataframe"
      ],
      "metadata": {
        "id": "NEYyDCbKkrhJ"
      }
    },
    {
      "cell_type": "code",
      "source": [
        "with open('result.json') as f:\n",
        "    data = json.load(f)\n",
        "    data_frame  = pd.DataFrame(data[\"messages\"])"
      ],
      "metadata": {
        "id": "goQRjalKfYom"
      },
      "execution_count": null,
      "outputs": []
    },
    {
      "cell_type": "markdown",
      "source": [
        "Export the dataframe to a CSV file"
      ],
      "metadata": {
        "id": "9GRbVbaAk0YR"
      }
    },
    {
      "cell_type": "code",
      "source": [
        "data_frame.to_csv(\"./messages.csv\", encoding=\"utf-8-sig\")"
      ],
      "metadata": {
        "id": "Qkxhwcx-f7xO"
      },
      "execution_count": null,
      "outputs": []
    }
  ]
}
